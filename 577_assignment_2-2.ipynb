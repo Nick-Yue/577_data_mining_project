{
 "cells": [
  {
   "cell_type": "markdown",
   "metadata": {},
   "source": [
    " # 577 Data mining Assignment 2\n",
    "## Junjie Yue"
   ]
  },
  {
   "cell_type": "markdown",
   "metadata": {},
   "source": [
    "### 1. Convert the XLS data to CSV"
   ]
  },
  {
   "cell_type": "code",
   "execution_count": 1,
   "metadata": {},
   "outputs": [],
   "source": [
    "import pandas as pd\n",
    "\n",
    "data_xls = pd.read_excel('features.xls', 'Features', index_col=None)\n",
    "data_xls.to_csv('features.csv', encoding='utf-8')"
   ]
  },
  {
   "cell_type": "markdown",
   "metadata": {},
   "source": [
    "By using the pandas library, I can import the file as a OrderedDict type which will contain the targeted spreadsheet as a datadrame. Then use the .to_csv function to convert it into a new csv file. "
   ]
  },
  {
   "cell_type": "markdown",
   "metadata": {},
   "source": [
    "### 2. Preprocessing task 1"
   ]
  },
  {
   "cell_type": "code",
   "execution_count": 22,
   "metadata": {},
   "outputs": [],
   "source": [
    "# read in the data\n",
    "df = pd.read_csv('features.csv').drop(['TextID','URL'], axis = 1)\n",
    "X = df.drop(['Label'], axis = 1)\n",
    "y = df['Label']"
   ]
  },
  {
   "cell_type": "code",
   "execution_count": 27,
   "metadata": {},
   "outputs": [
    {
     "data": {
      "text/html": [
       "<div>\n",
       "<style scoped>\n",
       "    .dataframe tbody tr th:only-of-type {\n",
       "        vertical-align: middle;\n",
       "    }\n",
       "\n",
       "    .dataframe tbody tr th {\n",
       "        vertical-align: top;\n",
       "    }\n",
       "\n",
       "    .dataframe thead th {\n",
       "        text-align: right;\n",
       "    }\n",
       "</style>\n",
       "<table border=\"1\" class=\"dataframe\">\n",
       "  <thead>\n",
       "    <tr style=\"text-align: right;\">\n",
       "      <th></th>\n",
       "      <th>Unnamed: 0</th>\n",
       "      <th>totalWordsCount</th>\n",
       "      <th>semanticobjscore</th>\n",
       "      <th>semanticsubjscore</th>\n",
       "      <th>CC</th>\n",
       "      <th>CD</th>\n",
       "      <th>DT</th>\n",
       "      <th>EX</th>\n",
       "      <th>FW</th>\n",
       "      <th>INs</th>\n",
       "      <th>...</th>\n",
       "      <th>pronouns2nd</th>\n",
       "      <th>pronouns3rd</th>\n",
       "      <th>compsupadjadv</th>\n",
       "      <th>past</th>\n",
       "      <th>imperative</th>\n",
       "      <th>present3rd</th>\n",
       "      <th>present1st2nd</th>\n",
       "      <th>sentence1st</th>\n",
       "      <th>sentencelast</th>\n",
       "      <th>txtcomplexity</th>\n",
       "    </tr>\n",
       "  </thead>\n",
       "  <tbody>\n",
       "    <tr>\n",
       "      <th>0</th>\n",
       "      <td>0</td>\n",
       "      <td>109</td>\n",
       "      <td>0</td>\n",
       "      <td>1</td>\n",
       "      <td>7</td>\n",
       "      <td>9</td>\n",
       "      <td>0</td>\n",
       "      <td>5</td>\n",
       "      <td>8</td>\n",
       "      <td>6</td>\n",
       "      <td>...</td>\n",
       "      <td>0</td>\n",
       "      <td>3</td>\n",
       "      <td>0</td>\n",
       "      <td>11</td>\n",
       "      <td>0</td>\n",
       "      <td>0</td>\n",
       "      <td>0</td>\n",
       "      <td>0</td>\n",
       "      <td>1</td>\n",
       "      <td>18</td>\n",
       "    </tr>\n",
       "    <tr>\n",
       "      <th>1</th>\n",
       "      <td>1</td>\n",
       "      <td>309</td>\n",
       "      <td>21</td>\n",
       "      <td>4</td>\n",
       "      <td>1</td>\n",
       "      <td>19</td>\n",
       "      <td>1</td>\n",
       "      <td>4</td>\n",
       "      <td>35</td>\n",
       "      <td>23</td>\n",
       "      <td>...</td>\n",
       "      <td>0</td>\n",
       "      <td>10</td>\n",
       "      <td>0</td>\n",
       "      <td>13</td>\n",
       "      <td>0</td>\n",
       "      <td>14</td>\n",
       "      <td>9</td>\n",
       "      <td>1</td>\n",
       "      <td>1</td>\n",
       "      <td>14</td>\n",
       "    </tr>\n",
       "    <tr>\n",
       "      <th>2</th>\n",
       "      <td>2</td>\n",
       "      <td>149</td>\n",
       "      <td>6</td>\n",
       "      <td>1</td>\n",
       "      <td>8</td>\n",
       "      <td>14</td>\n",
       "      <td>0</td>\n",
       "      <td>5</td>\n",
       "      <td>15</td>\n",
       "      <td>11</td>\n",
       "      <td>...</td>\n",
       "      <td>0</td>\n",
       "      <td>2</td>\n",
       "      <td>0</td>\n",
       "      <td>8</td>\n",
       "      <td>0</td>\n",
       "      <td>3</td>\n",
       "      <td>2</td>\n",
       "      <td>1</td>\n",
       "      <td>1</td>\n",
       "      <td>18</td>\n",
       "    </tr>\n",
       "    <tr>\n",
       "      <th>3</th>\n",
       "      <td>3</td>\n",
       "      <td>305</td>\n",
       "      <td>18</td>\n",
       "      <td>5</td>\n",
       "      <td>7</td>\n",
       "      <td>26</td>\n",
       "      <td>0</td>\n",
       "      <td>10</td>\n",
       "      <td>37</td>\n",
       "      <td>21</td>\n",
       "      <td>...</td>\n",
       "      <td>0</td>\n",
       "      <td>8</td>\n",
       "      <td>3</td>\n",
       "      <td>13</td>\n",
       "      <td>1</td>\n",
       "      <td>7</td>\n",
       "      <td>1</td>\n",
       "      <td>1</td>\n",
       "      <td>1</td>\n",
       "      <td>20</td>\n",
       "    </tr>\n",
       "    <tr>\n",
       "      <th>4</th>\n",
       "      <td>4</td>\n",
       "      <td>491</td>\n",
       "      <td>23</td>\n",
       "      <td>8</td>\n",
       "      <td>33</td>\n",
       "      <td>47</td>\n",
       "      <td>0</td>\n",
       "      <td>12</td>\n",
       "      <td>61</td>\n",
       "      <td>36</td>\n",
       "      <td>...</td>\n",
       "      <td>0</td>\n",
       "      <td>16</td>\n",
       "      <td>2</td>\n",
       "      <td>34</td>\n",
       "      <td>1</td>\n",
       "      <td>5</td>\n",
       "      <td>6</td>\n",
       "      <td>1</td>\n",
       "      <td>1</td>\n",
       "      <td>24</td>\n",
       "    </tr>\n",
       "  </tbody>\n",
       "</table>\n",
       "<p>5 rows × 60 columns</p>\n",
       "</div>"
      ],
      "text/plain": [
       "   Unnamed: 0  totalWordsCount  semanticobjscore  semanticsubjscore  CC  CD  \\\n",
       "0           0              109                 0                  1   7   9   \n",
       "1           1              309                21                  4   1  19   \n",
       "2           2              149                 6                  1   8  14   \n",
       "3           3              305                18                  5   7  26   \n",
       "4           4              491                23                  8  33  47   \n",
       "\n",
       "   DT  EX  FW  INs  ...  pronouns2nd  pronouns3rd  compsupadjadv  past  \\\n",
       "0   0   5   8    6  ...            0            3              0    11   \n",
       "1   1   4  35   23  ...            0           10              0    13   \n",
       "2   0   5  15   11  ...            0            2              0     8   \n",
       "3   0  10  37   21  ...            0            8              3    13   \n",
       "4   0  12  61   36  ...            0           16              2    34   \n",
       "\n",
       "   imperative  present3rd  present1st2nd  sentence1st  sentencelast  \\\n",
       "0           0           0              0            0             1   \n",
       "1           0          14              9            1             1   \n",
       "2           0           3              2            1             1   \n",
       "3           1           7              1            1             1   \n",
       "4           1           5              6            1             1   \n",
       "\n",
       "   txtcomplexity  \n",
       "0             18  \n",
       "1             14  \n",
       "2             18  \n",
       "3             20  \n",
       "4             24  \n",
       "\n",
       "[5 rows x 60 columns]"
      ]
     },
     "execution_count": 27,
     "metadata": {},
     "output_type": "execute_result"
    }
   ],
   "source": [
    "X.head()"
   ]
  },
  {
   "cell_type": "markdown",
   "metadata": {},
   "source": [
    "By looking at the metadata, there are several features that are not frequencies, which are: TextId, URL, Label,sentence1st, sentenceLast, txtcomplexity. I choose to remove the TextID and URL features. I deleted them simply because these columns don't contain any information thta will help to label the texts, they are just some metadata that holds information about where they come from and some order sequences that uniquely marked them in the convinience of indexing or sorting. "
   ]
  },
  {
   "cell_type": "markdown",
   "metadata": {},
   "source": [
    "### 3. Classification task"
   ]
  },
  {
   "cell_type": "code",
   "execution_count": 24,
   "metadata": {},
   "outputs": [],
   "source": [
    "\n",
    "# Split dataset in training and test datasets\n",
    "from sklearn.model_selection import train_test_split\n",
    "X_train, X_test, y_train, y_test = train_test_split(X, y, random_state=0)"
   ]
  },
  {
   "cell_type": "code",
   "execution_count": 25,
   "metadata": {},
   "outputs": [
    {
     "name": "stdout",
     "output_type": "stream",
     "text": [
      "Accuracy of GNB classifier on training set: 0.82\n",
      "Accuracy of GNB classifier on test set: 0.83\n",
      "GaussianNB(priors=None, var_smoothing=1e-09)\n",
      "              precision    recall  f1-score   support\n",
      "\n",
      "   objective       0.83      0.91      0.87       635\n",
      "  subjective       0.81      0.68      0.74       365\n",
      "\n",
      "    accuracy                           0.82      1000\n",
      "   macro avg       0.82      0.79      0.80      1000\n",
      "weighted avg       0.82      0.82      0.82      1000\n",
      "\n",
      "[[575  60]\n",
      " [117 248]]\n",
      "0.6050517672259907\n"
     ]
    }
   ],
   "source": [
    "# Gaussian Naive Bayes\n",
    "from sklearn import metrics\n",
    "from sklearn.naive_bayes import GaussianNB\n",
    "\n",
    "# fit a Naive Bayes model to the data\n",
    "gnb = GaussianNB()\n",
    "gnb.fit(X_train, y_train)\n",
    "\n",
    "# calculate the accuracies on training set and test set\n",
    "print('Accuracy of GNB classifier on training set: {:.2f}'\n",
    "     .format(gnb.score(X_train, y_train)))\n",
    "print('Accuracy of GNB classifier on test set: {:.2f}'\n",
    "     .format(gnb.score(X_test, y_test)))\n",
    "\n",
    "\n",
    "# calaculate \n",
    "model = GaussianNB()\n",
    "model.fit(X, y)\n",
    "print(model)\n",
    "# make predictions\n",
    "expected = y\n",
    "predicted = model.predict(X)\n",
    "# summarize the fit of the model\n",
    "print(metrics.classification_report(expected, predicted))\n",
    "print(metrics.confusion_matrix(expected, predicted))\n",
    "print(metrics.cohen_kappa_score(expected, predicted))"
   ]
  },
  {
   "cell_type": "code",
   "execution_count": 26,
   "metadata": {},
   "outputs": [
    {
     "name": "stdout",
     "output_type": "stream",
     "text": [
      "Accuracy of MNB classifier on training set: 0.74\n",
      "Accuracy of MNB classifier on test set: 0.72\n",
      "MultinomialNB(alpha=1.0, class_prior=None, fit_prior=True)\n",
      "              precision    recall  f1-score   support\n",
      "\n",
      "   objective       0.90      0.66      0.77       635\n",
      "  subjective       0.60      0.88      0.71       365\n",
      "\n",
      "    accuracy                           0.74      1000\n",
      "   macro avg       0.75      0.77      0.74      1000\n",
      "weighted avg       0.79      0.74      0.75      1000\n",
      "\n",
      "[[422 213]\n",
      " [ 45 320]]\n",
      "0.493034131771826\n"
     ]
    }
   ],
   "source": [
    "# MultinomialNB\n",
    "from sklearn import metrics\n",
    "from sklearn.naive_bayes import MultinomialNB\n",
    "\n",
    "# fit a Naive Bayes model to the data\n",
    "mnb = MultinomialNB()\n",
    "mnb.fit(X_train, y_train)\n",
    "\n",
    "# calculate the accuracies on training set and test set\n",
    "print('Accuracy of MNB classifier on training set: {:.2f}'\n",
    "     .format(mnb.score(X_train, y_train)))\n",
    "print('Accuracy of MNB classifier on test set: {:.2f}'\n",
    "     .format(mnb.score(X_test, y_test)))\n",
    "\n",
    "\n",
    "model = MultinomialNB()\n",
    "model.fit(X, y)\n",
    "print(model)\n",
    "# make predictions\n",
    "expected = y\n",
    "predicted = model.predict(X)\n",
    "# summarize the fit of the model\n",
    "print(metrics.classification_report(expected, predicted))\n",
    "print(metrics.confusion_matrix(expected, predicted))\n",
    "print(metrics.cohen_kappa_score(expected, predicted))"
   ]
  },
  {
   "cell_type": "markdown",
   "metadata": {},
   "source": [
    " As we can see from the results abouve, it is obvious that the Multimonial Naive Bayes classifier is a better fit on the dataset as the kappa statistic of MNB is greater than it is of GNB and the accuracy of MNB is greater as well. Higher kappa value indicates better agreement. "
   ]
  },
  {
   "cell_type": "markdown",
   "metadata": {},
   "source": [
    "### 4. Preprocessing task 2"
   ]
  },
  {
   "cell_type": "code",
   "execution_count": 7,
   "metadata": {},
   "outputs": [
    {
     "name": "stdout",
     "output_type": "stream",
     "text": [
      "KNeighborsClassifier(algorithm='auto', leaf_size=30, metric='minkowski',\n",
      "                     metric_params=None, n_jobs=None, n_neighbors=3, p=2,\n",
      "                     weights='uniform')\n",
      "              precision    recall  f1-score   support\n",
      "\n",
      "   objective       1.00      0.99      0.99       635\n",
      "  subjective       0.99      0.99      0.99       365\n",
      "\n",
      "    accuracy                           0.99      1000\n",
      "   macro avg       0.99      0.99      0.99      1000\n",
      "weighted avg       0.99      0.99      0.99      1000\n",
      "\n",
      "[[631   4]\n",
      " [  3 362]]\n",
      "0.9849079384243887\n"
     ]
    }
   ],
   "source": [
    "from sklearn.neighbors import KNeighborsClassifier\n",
    "\n",
    "\n",
    "# k = 3 for KNeighborsClassifier\n",
    "knn = KNeighborsClassifier(n_neighbors=3)\n",
    "\n",
    "\n",
    "# Train the model using the training sets\n",
    "knn.fit(X, y)\n",
    "print(knn)\n",
    "# make predictions\n",
    "expected = y\n",
    "predicted = knn.predict(X)\n",
    "# summarize the fit of the model\n",
    "print(metrics.classification_report(expected, predicted))\n",
    "print(metrics.confusion_matrix(expected, predicted))\n",
    "print(metrics.cohen_kappa_score(expected, predicted))"
   ]
  },
  {
   "cell_type": "code",
   "execution_count": 9,
   "metadata": {},
   "outputs": [
    {
     "name": "stdout",
     "output_type": "stream",
     "text": [
      "mean kappa: 0.9718526798730125\n"
     ]
    }
   ],
   "source": [
    "import numpy as np\n",
    "from sklearn.neighbors import KNeighborsClassifier\n",
    "from sklearn.model_selection import KFold\n",
    "\n",
    "# n_splits = 4 for 4-fold cross-validation\n",
    "kf = KFold(n_splits=4, shuffle= True)\n",
    "kf.get_n_splits(X)\n",
    "knn = KNeighborsClassifier(n_neighbors=3)\n",
    "kappa = 0\n",
    "for train_index, test_index in kf.split(X):\n",
    "\n",
    "    X_train = X[train_index]\n",
    "    y_train = y[train_index]\n",
    "    X_test = X[test_index]\n",
    "    y_test = y[test_index]\n",
    "    \n",
    "# Train the model using the training sets\n",
    "    knn.fit(X_train,y_train )\n",
    "# apply the model to the test set\n",
    "    predicted = knn.predict(X_test)\n",
    "    kappa_iter = metrics.cohen_kappa_score(y_test, predicted)  \n",
    "    kappa = kappa + kappa_iter\n",
    "print('mean kappa: {}'.format(kappa/4))    "
   ]
  },
  {
   "cell_type": "code",
   "execution_count": 9,
   "metadata": {},
   "outputs": [
    {
     "name": "stdout",
     "output_type": "stream",
     "text": [
      "0.0\n",
      "0.0\n",
      "-0.02694709168583631\n",
      "0.0\n",
      "mean kappa: -0.006736772921459078\n"
     ]
    }
   ],
   "source": [
    "# apply the transformer\n",
    "from sklearn.preprocessing import StandardScaler\n",
    "scaler = StandardScaler()\n",
    "X_scaled = scaler.fit_transform(X)\n",
    "# scaler = StandardScaler()\n",
    "# X_scaled = scaler.fit(X).transform(X)\n",
    "\n",
    "# n_splits = 4 for 4-fold cross-validation\n",
    "kf = KFold(n_splits=4, shuffle= False)\n",
    "kf.get_n_splits(X)\n",
    "knn = KNeighborsClassifier(n_neighbors=3)\n",
    "kappa = 0\n",
    "for train_index, test_index in kf.split(X_scaled):\n",
    "\n",
    "#     X_train = X.iloc[train_index]\n",
    "    X_train = np.take(X_scaled,train_index).reshape(-1, 1)\n",
    "#     y_train = np.take(y_scaled,train_index)\n",
    "    y_train = y.iloc[train_index]\n",
    "#     X_test = X.iloc[test_index]\n",
    "    X_test = np.take(X_scaled,test_index).reshape(-1, 1)\n",
    "#     y_test = np.take(y_scaled,test_index)\n",
    "    y_test = y.iloc[test_index]\n",
    "    \n",
    "# Train the model using the training sets\n",
    "    knn.fit(X_train,y_train )\n",
    "# apply the model to the test set\n",
    "    predicted = knn.predict(X_test)\n",
    "    kappa_iter = metrics.cohen_kappa_score(y_test, predicted)  \n",
    "    print(kappa_iter)\n",
    "    kappa = kappa + kappa_iter\n",
    "print('mean kappa: {}'.format(kappa/4))    "
   ]
  },
  {
   "cell_type": "markdown",
   "metadata": {},
   "source": [
    "For this part of the assignment, the result generated from the code above doesn't seem correct, as the value of Kappa is usually between 0 and 1. Here are the attempts that I have tried to fix the problem. \n",
    " 1. convert y to a numpy array. I noticed that after doing the standardization to X, it became a numpy array instead of a pandas dataframe. So I tried to do the same to y. But this didn't seem to fix the probem. \n",
    " 2. Apply stadardization to y. y is a catogorical attribute which means it cannot be numerically standardized. "
   ]
  },
  {
   "cell_type": "code",
   "execution_count": 10,
   "metadata": {},
   "outputs": [
    {
     "name": "stdout",
     "output_type": "stream",
     "text": [
      "0.0\n",
      "0.0\n",
      "-0.02694709168583631\n",
      "0.0\n",
      "mean kappa: -0.006736772921459078\n"
     ]
    }
   ],
   "source": [
    "# apply the transformer\n",
    "from sklearn.preprocessing import StandardScaler\n",
    "scaler = StandardScaler()\n",
    "X_scaled = scaler.fit(X).transform(X)\n",
    "y_scaled = y.to_numpy()\n",
    "\n",
    "# n_splits = 4 for 4-fold cross-validation\n",
    "kf = KFold(n_splits=4, shuffle= False)\n",
    "kf.get_n_splits(X)\n",
    "knn = KNeighborsClassifier(n_neighbors=3)\n",
    "kappa = 0\n",
    "for train_index, test_index in kf.split(X_scaled):\n",
    "\n",
    "#     X_train = X.iloc[train_index]\n",
    "    X_train = np.take(X_scaled,train_index).reshape(-1, 1)\n",
    "    y_train = np.take(y_scaled,train_index)\n",
    "#     y_train = y.iloc[train_index]\n",
    "#     X_test = X.iloc[test_index]\n",
    "    X_test = np.take(X_scaled,test_index).reshape(-1, 1)\n",
    "    y_test = np.take(y_scaled,test_index)\n",
    "#     y_test = y.iloc[test_index]\n",
    "    \n",
    "# Train the model using the training sets\n",
    "    knn.fit(X_train,y_train )\n",
    "# apply the model to the test set\n",
    "    predicted = knn.predict(X_test)\n",
    "    kappa_iter = metrics.cohen_kappa_score(y_test, predicted)  \n",
    "    print(kappa_iter)\n",
    "    kappa = kappa + kappa_iter\n",
    "print('mean kappa: {}'.format(kappa/4)) "
   ]
  },
  {
   "cell_type": "code",
   "execution_count": 11,
   "metadata": {},
   "outputs": [],
   "source": [
    "import numpy as np\n",
    "from sklearn.neighbors import KNeighborsClassifier\n",
    "from sklearn.model_selection import KFold\n",
    "\n",
    "def knn_4fold(k): \n",
    "    # n_splits = 4 for 4-fold cross-validation\n",
    "    kf = KFold(n_splits=4, shuffle= True)\n",
    "    kf.get_n_splits(X)\n",
    "    knn = KNeighborsClassifier(n_neighbors=k)\n",
    "    kappa = 0\n",
    "    for train_index, test_index in kf.split(X):\n",
    "\n",
    "        X_train = X.iloc[train_index]\n",
    "        y_train = y.iloc[train_index]\n",
    "        X_test = X.iloc[test_index]\n",
    "        y_test = y.iloc[test_index]\n",
    "\n",
    "    # Train the model using the training sets\n",
    "        knn.fit(X_train,y_train )\n",
    "    # apply the model to the test set\n",
    "        predicted = knn.predict(X_test)\n",
    "        kappa_iter = metrics.cohen_kappa_score(y_test, predicted)  \n",
    "        kappa = kappa + kappa_iter\n",
    "    return kappa/4 \n"
   ]
  },
  {
   "cell_type": "code",
   "execution_count": 12,
   "metadata": {},
   "outputs": [],
   "source": [
    "kappa_list = []\n",
    "k_range = range(1,30)\n",
    "for k in k_range:\n",
    "    kappa_k = knn_4fold(k)\n",
    "    kappa_list.append(kappa_k)"
   ]
  },
  {
   "cell_type": "code",
   "execution_count": 13,
   "metadata": {},
   "outputs": [
    {
     "data": {
      "text/plain": [
       "Text(0, 0.5, 'Kappa')"
      ]
     },
     "execution_count": 13,
     "metadata": {},
     "output_type": "execute_result"
    },
    {
     "data": {
      "image/png": "[encoded data removed]",
      "text/plain": [
       "<Figure size 432x288 with 1 Axes>"
      ]
     },
     "metadata": {
      "needs_background": "light"
     },
     "output_type": "display_data"
    }
   ],
   "source": [
    "# plot how kappa changes as we vary k\n",
    "import matplotlib.pyplot as plt\n",
    "%matplotlib inline\n",
    "\n",
    "# plot the value of K for KNN (x-axis) versus the cross-validated accuracy (y-axis)\n",
    "# plt.plot(x_axis, y_axis)\n",
    "plt.plot(k_range, kappa_list)\n",
    "plt.xlabel('Value of K for KNN')\n",
    "plt.ylabel('Kappa')"
   ]
  },
  {
   "cell_type": "markdown",
   "metadata": {},
   "source": [
    "I think 5 is a better value of k, according to the plot above. As the value of k gets larger, the value of kappa seems to fluctuate within a certain range. "
   ]
  },
  {
   "cell_type": "code",
   "execution_count": null,
   "metadata": {},
   "outputs": [],
   "source": []
  }
 ],
 "metadata": {
  "kernelspec": {
   "display_name": "Python 3",
   "language": "python",
   "name": "python3"
  },
  "language_info": {
   "codemirror_mode": {
    "name": "ipython",
    "version": 3
   },
   "file_extension": ".py",
   "mimetype": "text/x-python",
   "name": "python",
   "nbconvert_exporter": "python",
   "pygments_lexer": "ipython3",
   "version": "3.7.6"
  }
 },
 "nbformat": 4,
 "nbformat_minor": 2
}
